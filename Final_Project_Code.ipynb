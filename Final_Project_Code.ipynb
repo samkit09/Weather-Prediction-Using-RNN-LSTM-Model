{
 "cells": [
  {
   "cell_type": "code",
   "execution_count": 0,
   "metadata": {
    "application/vnd.databricks.v1+cell": {
     "cellMetadata": {
      "byteLimit": 2048000,
      "rowLimit": 10000
     },
     "inputWidgets": {},
     "nuid": "6947af1f-1de7-40d0-a4fa-d252a2e8e225",
     "showTitle": false,
     "title": ""
    }
   },
   "outputs": [],
   "source": [
    "number_of_epochs=10   # Set here number of epochs you want for RNN and LSTM\n",
    "\n",
    "feature_to_predict='PS' # Set here abbreviation of feature you want to predict\n",
    "# Details of features are described below:\n",
    "\t# Temperature at 2 Meters (C) (T2M)\n",
    "\t# Dew/Frost Point at 2 Meters (C) (T2MDEW)\n",
    "\t# Wet Bulb Temperature at 2 Meters (C) (T2MWET)\n",
    "\t# Specific Humidity at 2 Meters (g/kg) (QV2M)\n",
    "\t# Precipitation Corrected (mm/day) (PRECTOTCORR)\n",
    "\t# Surface Pressure (kPa) (PS)\n",
    "\t# Wind Speed at 10 Meters (m/s) (WS10M)\n",
    "\t# Wind Direction at 10 Meters (Degrees) (WD10M)\n",
    "\t# Wind Speed at 50 Meters (m/s) (WS50M)\n",
    "\t# Wind Direction at 50 Meters (Degrees) (WD50M)\n",
    "\t# Relative Humidity at 2 Meters (%) (RH2M)\n",
    "\t# Earth Skin Temperature (C) (TS)\n",
    "\n",
    "batchSize=16 # Set here batch size neural networks need to process\n",
    "learningRate=0.001 # Set here learning rate\n",
    "hiddenLayerDimension=50 # Set here dimension of hidden layer of neural networks"
   ]
  },
  {
   "cell_type": "code",
   "execution_count": 0,
   "metadata": {
    "application/vnd.databricks.v1+cell": {
     "cellMetadata": {
      "byteLimit": 2048000,
      "rowLimit": 10000
     },
     "inputWidgets": {},
     "nuid": "baa4440e-acb9-449b-81c9-1793d3ce8774",
     "showTitle": false,
     "title": ""
    }
   },
   "outputs": [
    {
     "output_type": "stream",
     "name": "stdout",
     "output_type": "stream",
     "text": [
      "Requirement already satisfied: scikit-learn in /local_disk0/.ephemeral_nfs/envs/pythonEnv-69784471-7eda-4d2d-af0a-1b19b8163a8d/lib/python3.9/site-packages (1.3.2)\r\nRequirement already satisfied: numpy<2.0,>=1.17.3 in /local_disk0/.ephemeral_nfs/envs/pythonEnv-69784471-7eda-4d2d-af0a-1b19b8163a8d/lib/python3.9/site-packages (from scikit-learn) (1.22.4)\r\nRequirement already satisfied: threadpoolctl>=2.0.0 in /databricks/python3/lib/python3.9/site-packages (from scikit-learn) (2.2.0)\r\nRequirement already satisfied: scipy>=1.5.0 in /databricks/python3/lib/python3.9/site-packages (from scikit-learn) (1.7.3)\r\nRequirement already satisfied: joblib>=1.1.1 in /databricks/python3/lib/python3.9/site-packages (from scikit-learn) (1.1.1)\r\n\u001B[33mWARNING: You are using pip version 21.2.4; however, version 23.3.1 is available.\r\nYou should consider upgrading via the '/local_disk0/.ephemeral_nfs/envs/pythonEnv-69784471-7eda-4d2d-af0a-1b19b8163a8d/bin/python -m pip install --upgrade pip' command.\u001B[0m\r\n"
     ]
    }
   ],
   "source": [
    "!pip install -U scikit-learn"
   ]
  },
  {
   "cell_type": "code",
   "execution_count": 0,
   "metadata": {
    "application/vnd.databricks.v1+cell": {
     "cellMetadata": {
      "byteLimit": 2048000,
      "rowLimit": 10000
     },
     "inputWidgets": {},
     "nuid": "461d1304-e0f1-4ec7-b770-75725f241f11",
     "showTitle": false,
     "title": ""
    }
   },
   "outputs": [
    {
     "output_type": "stream",
     "name": "stdout",
     "output_type": "stream",
     "text": [
      "Requirement already satisfied: matplotlib in /local_disk0/.ephemeral_nfs/envs/pythonEnv-69784471-7eda-4d2d-af0a-1b19b8163a8d/lib/python3.9/site-packages (3.8.2)\r\nRequirement already satisfied: packaging>=20.0 in /databricks/python3/lib/python3.9/site-packages (from matplotlib) (21.3)\r\nRequirement already satisfied: python-dateutil>=2.7 in /databricks/python3/lib/python3.9/site-packages (from matplotlib) (2.8.2)\r\nRequirement already satisfied: pyparsing>=2.3.1 in /databricks/python3/lib/python3.9/site-packages (from matplotlib) (3.0.4)\r\nRequirement already satisfied: kiwisolver>=1.3.1 in /databricks/python3/lib/python3.9/site-packages (from matplotlib) (1.3.2)\r\nRequirement already satisfied: fonttools>=4.22.0 in /databricks/python3/lib/python3.9/site-packages (from matplotlib) (4.25.0)\r\nRequirement already satisfied: contourpy>=1.0.1 in /local_disk0/.ephemeral_nfs/envs/pythonEnv-69784471-7eda-4d2d-af0a-1b19b8163a8d/lib/python3.9/site-packages (from matplotlib) (1.2.0)\r\nRequirement already satisfied: pillow>=8 in /databricks/python3/lib/python3.9/site-packages (from matplotlib) (9.0.1)\r\nRequirement already satisfied: importlib-resources>=3.2.0 in /local_disk0/.ephemeral_nfs/envs/pythonEnv-69784471-7eda-4d2d-af0a-1b19b8163a8d/lib/python3.9/site-packages (from matplotlib) (6.1.1)\r\nRequirement already satisfied: numpy<2,>=1.21 in /local_disk0/.ephemeral_nfs/envs/pythonEnv-69784471-7eda-4d2d-af0a-1b19b8163a8d/lib/python3.9/site-packages (from matplotlib) (1.22.4)\r\nRequirement already satisfied: cycler>=0.10 in /databricks/python3/lib/python3.9/site-packages (from matplotlib) (0.11.0)\r\nRequirement already satisfied: zipp>=3.1.0 in /local_disk0/.ephemeral_nfs/envs/pythonEnv-69784471-7eda-4d2d-af0a-1b19b8163a8d/lib/python3.9/site-packages (from importlib-resources>=3.2.0->matplotlib) (3.17.0)\r\nRequirement already satisfied: six>=1.5 in /databricks/python3/lib/python3.9/site-packages (from python-dateutil>=2.7->matplotlib) (1.16.0)\r\n\u001B[33mWARNING: You are using pip version 21.2.4; however, version 23.3.1 is available.\r\nYou should consider upgrading via the '/local_disk0/.ephemeral_nfs/envs/pythonEnv-69784471-7eda-4d2d-af0a-1b19b8163a8d/bin/python -m pip install --upgrade pip' command.\u001B[0m\r\n"
     ]
    }
   ],
   "source": [
    "!pip install -U matplotlib"
   ]
  },
  {
   "cell_type": "code",
   "execution_count": 0,
   "metadata": {
    "application/vnd.databricks.v1+cell": {
     "cellMetadata": {
      "byteLimit": 2048000,
      "rowLimit": 10000
     },
     "inputWidgets": {},
     "nuid": "4b14c382-d3b7-43ef-9fc4-9fd47f555da5",
     "showTitle": false,
     "title": ""
    }
   },
   "outputs": [],
   "source": [
    "from pyspark.ml.feature import MinMaxScaler,VectorAssembler\n",
    "from pyspark.sql.functions import udf,col\n",
    "from pyspark.sql.types import DoubleType\n",
    "import numpy as np\n",
    "from sklearn.metrics import r2_score,mean_squared_error\n",
    "from sklearn.preprocessing import MinMaxScaler as mmscaler\n",
    "import matplotlib"
   ]
  },
  {
   "cell_type": "code",
   "execution_count": 0,
   "metadata": {
    "application/vnd.databricks.v1+cell": {
     "cellMetadata": {
      "byteLimit": 2048000,
      "rowLimit": 10000
     },
     "inputWidgets": {},
     "nuid": "88cc1cb2-a5f0-4ae9-aee0-b08e0c0ee0cc",
     "showTitle": false,
     "title": ""
    }
   },
   "outputs": [],
   "source": [
    "class LSTM:\n",
    "    # Constructor for LSTM class\n",
    "    def __init__ (self, inp_dim, out_dim, batch_size, alpha):\n",
    "        self.data_in = np.zeros(inp_dim + out_dim)   # Data : input data\n",
    "        self.data_out = np.zeros(shape = (1, out_dim))  # Data : output data\n",
    "        self.batch_size = batch_size  # Hyperparam : batch size\n",
    "        self.cell_state_vals = np.zeros(out_dim)\n",
    "        self.alpha = alpha  # Hyperparam : learning rate\n",
    "        self.input_weight_mat = np.random.random((out_dim, inp_dim + out_dim))   # input weights\n",
    "        self.forget_weight_mat = np.random.random((out_dim, inp_dim + out_dim))  # forget weights\n",
    "        self.output_weight_mat = np.random.random((out_dim, inp_dim + out_dim))  # output weights\n",
    "        self.activation_weight_mat = np.random.random((out_dim, inp_dim + out_dim))  # activation weights\n",
    "        self.update_forget_weight_mat = np.zeros_like(self.forget_weight_mat)\n",
    "        self.update_input_weight_mat = np.zeros_like(self.input_weight_mat)\n",
    "        self.update_activation_weight_mat = np.zeros_like(self.activation_weight_mat)\n",
    "        self.update_output_weight_mat = np.zeros_like(self.output_weight_mat)\n",
    "\n",
    "    # Helper Function 1 - Implementation of Sigmoid activation function\n",
    "    def sigmoid(self, inp):\n",
    "        val = 1 / (1 + np.exp(-inp))\n",
    "        return val\n",
    "    \n",
    "    # Helper Function 2 - Implementation of Derivative of Sigmoid function\n",
    "    def sigmoid_der(self, inp):\n",
    "        der = self.sigmoid(inp) * (1 - self.sigmoid(inp))\n",
    "        return der\n",
    "    \n",
    "    # Helper Function 3 - Implementation of Derivative of hyperbolic tangent\n",
    "    def tanh_der(self, inp):\n",
    "        return 1 - np.tanh(inp) * np.tanh(inp)\n",
    "\n",
    "    # forward pass\n",
    "    def fwd_pass(self):\n",
    "        input_value = self.sigmoid(np.dot(self.input_weight_mat, self.data_in))\n",
    "        forget_value = self.sigmoid(np.dot(self.forget_weight_mat, self.data_in))\n",
    "        output_value = self.sigmoid(np.dot(self.output_weight_mat, self.data_in))\n",
    "        activation_value = np.tanh(np.dot(self.activation_weight_mat, self.data_in))\n",
    "        self.cell_state_vals = self.cell_state_vals*forget_value + (activation_value*input_value)\n",
    "        self.data_out = output_value * np.tanh(self.cell_state_vals)\n",
    "\n",
    "        return self.cell_state_vals, self.data_out, forget_value, input_value, activation_value, output_value\n",
    "\n",
    "    # backward pass\n",
    "    def bwd_pass(self, err_RNN, prev_cell_state, forget_value, input_value, activation_value, output_value, del_cell_state, del_hidden_state):\n",
    "        err_RNN = err_RNN + del_hidden_state\n",
    "        der_output = np.tanh(self.cell_state_vals) * err_RNN\n",
    "        der_cell_state = err_RNN * output_value * self.tanh_der(self.cell_state_vals) + del_cell_state\n",
    "        del_prev_cell_state = der_cell_state * forget_value\n",
    "        der_forget_val = der_cell_state * prev_cell_state\n",
    "        der_input_val = der_cell_state * activation_value\n",
    "        der_activation_val = der_cell_state * input_value\n",
    "\n",
    "        in_2d = np.atleast_2d(self.data_in)\n",
    "        out_val = np.atleast_2d(der_output * self.sigmoid_der(output_value)).T\n",
    "        del_output_val = np.dot(out_val, in_2d)\n",
    "        forget_val = np.atleast_2d(der_forget_val * self.sigmoid_der(forget_value)).T\n",
    "        del_forget_val = np.dot(forget_val, in_2d)\n",
    "        in_val = np.atleast_2d(der_input_val * self.sigmoid_der(input_value)).T\n",
    "        del_input_val = np.dot(in_val , in_2d)\n",
    "        act_val = np.atleast_2d(der_activation_val * self.tanh_der(activation_value)).T\n",
    "        del_activation_val = np.dot(act_val, in_2d)\n",
    "        del_prev_hidden_state = np.dot(der_activation_val, self.activation_weight_mat)[:self.data_out.shape[0]]+ np.dot(der_output, self.output_weight_mat)[:self.data_out.shape[0]]+ np.dot(der_input_val, self.input_weight_mat)[:self.data_out.shape[0]]+ np.dot(der_forget_val, self.forget_weight_mat)[:self.data_out.shape[0]]\n",
    "\n",
    "        return del_forget_val, del_input_val, del_activation_val, del_output_val, del_prev_cell_state, del_prev_hidden_state\n",
    "\n",
    "    def update_weight_mat(self, del_forget_val, del_input_val, del_activation_val, del_output_val):\n",
    "        self.update_forget_weight_mat = 0.85 * self.update_forget_weight_mat + 0.15 * del_forget_val * del_forget_val\n",
    "        self.update_input_weight_mat = 0.85 * self.update_input_weight_mat + 0.15 * del_input_val * del_input_val\n",
    "        self.update_activation_weight_mat = 0.85 * self.update_activation_weight_mat + 0.15 * del_activation_val * del_activation_val\n",
    "        self.update_output_weight_mat = 0.85 * self.update_output_weight_mat + 0.15 * del_output_val * del_output_val\n",
    "\n",
    "        self.forget_weight_mat -= self.alpha/np.sqrt(np.power(10.0, -8) + self.update_forget_weight_mat) * del_forget_val\n",
    "        self.input_weight_mat -= self.alpha/np.sqrt(np.power(10.0, -8) + self.update_input_weight_mat) * del_input_val\n",
    "        self.activation_weight_mat -= self.alpha/np.sqrt(np.power(10.0, -8) + self.update_activation_weight_mat) * del_activation_val\n",
    "        self.output_weight_mat -= self.alpha/np.sqrt(np.power(10.0, -8) + self.update_output_weight_mat) * del_output_val"
   ]
  },
  {
   "cell_type": "code",
   "execution_count": 0,
   "metadata": {
    "application/vnd.databricks.v1+cell": {
     "cellMetadata": {
      "byteLimit": 2048000,
      "rowLimit": 10000
     },
     "inputWidgets": {},
     "nuid": "b3aa4c9d-2dc2-4f7d-9549-d5115bcd0fae",
     "showTitle": false,
     "title": ""
    }
   },
   "outputs": [],
   "source": [
    "class RNN:\n",
    "    # Constructor for RNN class\n",
    "    def __init__ (self, x_inp, actual_op, hid_layer_dim, alpha, batch_size):\n",
    "\n",
    "        # Data : input data\n",
    "        self.x_inp = x_inp\n",
    "        # Data : actual output\n",
    "        self.actual_op = actual_op\n",
    "        # Hyperparam : hidden layer size\n",
    "        self.hid_layer_dim = hid_layer_dim\n",
    "        # Hyperparam : learning rate\n",
    "        self.alpha = alpha\n",
    "        # Hyperparam : batch size\n",
    "        self.batch_size = batch_size\n",
    "        # input dimentions : number of input features\n",
    "        self.inp_dim = x_inp.shape[1]\n",
    "        # output dimension : number of output features\n",
    "        self.op_dim = 1\n",
    "\n",
    "        # \n",
    "        self.d_weight_mat = np.random.random(( self.op_dim, self.hid_layer_dim))\n",
    "        # \n",
    "        self.updated_weight_mat = np.zeros_like(self.d_weight_mat)\n",
    "\n",
    "        # \n",
    "        self.cell_state_vals = np.zeros(( self.batch_size+1, self.hid_layer_dim))\n",
    "        # \n",
    "        self.predicted_outputs = np.zeros(( self.batch_size+1, self.op_dim))\n",
    "        # \n",
    "        self.hid_state_vals = np.zeros(( self.batch_size+1, self.hid_layer_dim))\n",
    "\n",
    "        # \n",
    "        self.forgetg_vals = np.zeros(( self.batch_size+1, self.hid_layer_dim))\n",
    "        # \n",
    "        self.inputg_vals = np.zeros(( self.batch_size+1, self.hid_layer_dim))\n",
    "        # \n",
    "        self.actg_vals = np.zeros(( self.batch_size+1, self.hid_layer_dim))\n",
    "        # \n",
    "        self.outputg_vals = np.zeros(( self.batch_size+1, self.hid_layer_dim))\n",
    "\n",
    "        # \n",
    "        self.d_weight_add = 1e-9\n",
    "        self.grad_fact = 0.950\n",
    "        self.diff_fact = 0.10\n",
    "        # \n",
    "        self.LSTM = LSTM(self.inp_dim, self.hid_layer_dim, self.batch_size, self.alpha)\n",
    "\n",
    "    # Helper Function 1 - Implemention of Sigmoid activation function \n",
    "    def sigmoid(self, inp):\n",
    "        val = 1 / (1 + np.exp(-inp))\n",
    "        return val\n",
    "\n",
    "    # Helper Function 2 - Implemention of Derivative of Sigmoid function \n",
    "    def sigmoid_der(self, inp):\n",
    "        der = self.sigmoid(inp) * (1 - self.sigmoid(inp))\n",
    "        return der\n",
    "\n",
    "    # Helper Function 3 - To update weights of weight matrix\n",
    "    def update_weights(self, diff):\n",
    "        self.updated_weight_mat = self.grad_fact * self.updated_weight_mat + self.diff_fact  * np.power(diff, 2)\n",
    "        gradientVal = self.updated_weight_mat + self.d_weight_add\n",
    "        self.d_weight_mat -= self.alpha/np.sqrt(gradientVal) * diff\n",
    "\n",
    "    # \n",
    "    def fwd_pass(self, batch_x_inp):\n",
    "\n",
    "        # \n",
    "        for t in range(1, batch_x_inp.shape[0]):\n",
    "            # \n",
    "            self.LSTM.data_in = np.hstack((self.hid_state_vals[t-1], batch_x_inp[t]))\n",
    "\n",
    "            cell_state_val, hidden_state_val, forgetg_val, inputg_val, actg_val, outputg_val = self.LSTM.fwd_pass()\n",
    "\n",
    "            # \n",
    "            self.cell_state_vals[t] = cell_state_val\n",
    "            self.hid_state_vals[t] = hidden_state_val\n",
    "            self.forgetg_vals[t] = forgetg_val\n",
    "            self.inputg_vals[t] = inputg_val\n",
    "            self.actg_vals[t] = actg_val\n",
    "            self.outputg_vals[t] = outputg_val\n",
    "            # \n",
    "            self.predicted_outputs[t] = self.sigmoid(np.dot(self.d_weight_mat, hidden_state_val))\n",
    "\n",
    "        return self.predicted_outputs\n",
    "\n",
    "    # \n",
    "    def bwd_pass(self, actual_batch_output, batch_x_inp):\n",
    "        # \n",
    "        total_batch_error = 0\n",
    "        # \n",
    "        cell_state_diff = np.zeros(self.hid_layer_dim)\n",
    "        # \n",
    "        hidden_state_diff = np.zeros(self.hid_layer_dim)\n",
    "\n",
    "        # \n",
    "        weight_difference = np.zeros(( self.op_dim, self.hid_layer_dim))\n",
    "        # \n",
    "        total_forgetg_diff = np.zeros(( self.hid_layer_dim, self.inp_dim+self.hid_layer_dim))\n",
    "        # \n",
    "        total_inputg_diff = np.zeros(( self.hid_layer_dim, self.inp_dim+self.hid_layer_dim))\n",
    "        # \n",
    "        total_actg_diff = np.zeros(( self.hid_layer_dim, self.inp_dim+self.hid_layer_dim))\n",
    "\n",
    "        total_outputg_diff = np.zeros(( self.hid_layer_dim, self.inp_dim+self.hid_layer_dim))\n",
    "\n",
    "        # \n",
    "        for t in range(self.batch_size-1, -1, -1):\n",
    "            # \n",
    "            curr_error = abs(self.predicted_outputs[t] - actual_batch_output[t])\n",
    "            # \n",
    "            total_batch_error += curr_error\n",
    "            # \n",
    "            weight_difference += np.dot(np.atleast_2d(curr_error * self.sigmoid_der(self.predicted_outputs[t])),\n",
    "                                        np.atleast_2d(self.hid_state_vals[t]))\n",
    "\n",
    "            # \n",
    "            lstm_error = np.dot(curr_error, self.d_weight_mat)\n",
    "            # \n",
    "            self.LSTM.data_in = np.hstack((self.hid_state_vals[t-1], batch_x_inp[t]))\n",
    "            # \n",
    "            self.LSTM.cell_state_vals = self.cell_state_vals[t]\n",
    "            # \n",
    "            forgetg_diff, inputg_diff, actg_diff, outputg_diff, cell_state_diff, hidden_state_diff = self.LSTM.bwd_pass(lstm_error, self.cell_state_vals[t-1], self.forgetg_vals[t], self.inputg_vals[t], self.actg_vals[t], self.outputg_vals[t], cell_state_diff, hidden_state_diff)\n",
    "\n",
    "            # \n",
    "            total_forgetg_diff += forgetg_diff\n",
    "            # \n",
    "            total_inputg_diff += inputg_diff\n",
    "            # \n",
    "            total_actg_diff += actg_diff\n",
    "            # \n",
    "            total_outputg_diff += outputg_diff\n",
    "\n",
    "            # \n",
    "        self.LSTM.update_weight_mat(total_forgetg_diff/self.batch_size, total_inputg_diff/self.batch_size, total_actg_diff/self.batch_size, total_outputg_diff/self.batch_size)\n",
    "            # \n",
    "        self.update_weights(weight_difference/self.batch_size)\n",
    "\n",
    "        return total_batch_error\n",
    "\n",
    "    \n",
    "\n",
    "    # \n",
    "    def test(self, batch_x_inp, batch_y_op):\n",
    "\n",
    "        # \n",
    "        batch_size = batch_x_inp.shape[0]\n",
    "        # \n",
    "        self.acualOutput = batch_y_op\n",
    "        # \n",
    "        self.cell_state_vals = np.zeros(( batch_size+1, self.hid_layer_dim))\n",
    "        # \n",
    "        self.predicted_outputs = np.zeros(( batch_size+1, self.op_dim))\n",
    "        # \n",
    "        self.hid_state_vals = np.zeros(( batch_size+1, self.hid_layer_dim))\n",
    "        # \n",
    "        self.forgetg_vals = np.zeros(( batch_size+1, self.hid_layer_dim))\n",
    "        # \n",
    "        self.inputg_vals = np.zeros(( batch_size+1, self.hid_layer_dim))\n",
    "        # \n",
    "        self.actg_vals = np.zeros(( batch_size+1, self.hid_layer_dim))\n",
    "        # \n",
    "        self.outputg_vals = np.zeros(( batch_size+1, self.hid_layer_dim))\n",
    "\n",
    "        # \n",
    "        total_test_error = 0\n",
    "\n",
    "        for t in range(1, batch_size):\n",
    "\n",
    "            # \n",
    "            self.LSTM.data_in = np.hstack((self.hid_state_vals[t-1], batch_x_inp[t]))\n",
    "\n",
    "            cell_state_val, hidden_state_val, forgetg_val, inputg_val, actg_val, outputg_val = self.LSTM.fwd_pass()\n",
    "\n",
    "            # \n",
    "            self.cell_state_vals[t] = cell_state_val\n",
    "            self.hid_state_vals[t] = hidden_state_val\n",
    "            self.forgetg_vals[t] = forgetg_val\n",
    "            self.inputg_vals[t] = inputg_val\n",
    "            self.actg_vals[t] = actg_val\n",
    "            self.outputg_vals[t] = outputg_val\n",
    "\n",
    "            # \n",
    "            self.predicted_outputs[t] = self.sigmoid(np.dot(self.d_weight_mat, hidden_state_val))\n",
    "\n",
    "            curr_error = abs(self.predicted_outputs[t] - batch_y_op[t])\n",
    "            total_test_error += curr_error\n",
    "\n",
    "        return self.predicted_outputs, total_test_error"
   ]
  },
  {
   "cell_type": "code",
   "execution_count": 0,
   "metadata": {
    "application/vnd.databricks.v1+cell": {
     "cellMetadata": {
      "byteLimit": 2048000,
      "rowLimit": 10000
     },
     "inputWidgets": {},
     "nuid": "f66e9326-68db-441e-a41b-801c70d1f4a5",
     "showTitle": false,
     "title": ""
    }
   },
   "outputs": [],
   "source": [
    "# Driver Code\n",
    "\n",
    "# Loading the data\n",
    "df=spark.read.option(\"header\",\"true\").option('inferSchema','true').csv('dbfs:/FileStore/tables/dataset.csv')\n",
    "\n",
    "# Select feature to predict\n",
    "df1=df.select(feature_to_predict)\n",
    "\n",
    "# Normalizing the data\n",
    "assembler=VectorAssembler().setInputCols([feature_to_predict]).setOutputCol('featurevector')\n",
    "assembled=assembler.transform(df1)\n",
    "\n",
    "scaler=MinMaxScaler().setInputCol('featurevector')\n",
    "scalerModel=scaler.fit(assembled)\n",
    "scalerModel.setOutputCol('featurescaled')\n",
    "scaled=scalerModel.transform(assembled)\n",
    "\n",
    "# Extracting values from dense vectors\n",
    "extractor_udf=udf(lambda x:float(sum(x)),DoubleType())\n",
    "transformed=scaled.withColumn('feature',extractor_udf(col('featurescaled')))\n",
    "\n",
    "# Splitting the dataset into training and testing dataset\n",
    "train, test = transformed.randomSplit([0.8,0.2],seed=500)\n",
    "\n",
    "# Splitting training and testing data into features and label to make it comfortable for supervised learning\n",
    "\n",
    "X_train_temp=[]\n",
    "y_train_temp=[]\n",
    "X_test_temp=[]\n",
    "y_test_temp=[]\n",
    "train_collect=train.rdd.map(lambda x:x['feature']).collect()\n",
    "test_collect=test.rdd.map(lambda x:x['feature']).collect()\n",
    "\n",
    "for i in range(50,len(train_collect)):\n",
    "    X_train_temp.append(train_collect[i-50:i])\n",
    "    y_train_temp.append(train_collect[i])\n",
    "for j in range(50,len(test_collect)):\n",
    "    X_test_temp.append(test_collect[j-50:j])\n",
    "    y_test_temp.append(test_collect[j])\n",
    "\n",
    "X_train=np.array(X_train_temp)\n",
    "y_train=np.array(y_train_temp)\n",
    "X_test=np.array(X_test_temp)\n",
    "y_test=np.array(y_test_temp)"
   ]
  },
  {
   "cell_type": "code",
   "execution_count": 0,
   "metadata": {
    "application/vnd.databricks.v1+cell": {
     "cellMetadata": {
      "byteLimit": 2048000,
      "rowLimit": 10000
     },
     "inputWidgets": {},
     "nuid": "78b9dd45-2d7f-4039-be9d-788c31c9866b",
     "showTitle": false,
     "title": ""
    }
   },
   "outputs": [],
   "source": [
    "# Initialization of RNN\n",
    "rnn = RNN(X_train, y_train, hiddenLayerDimension, learningRate, batchSize)"
   ]
  },
  {
   "cell_type": "code",
   "execution_count": 0,
   "metadata": {
    "application/vnd.databricks.v1+cell": {
     "cellMetadata": {
      "byteLimit": 2048000,
      "rowLimit": 10000
     },
     "inputWidgets": {},
     "nuid": "b0e8f564-fbae-4139-8190-2e9c686d3108",
     "showTitle": false,
     "title": ""
    }
   },
   "outputs": [
    {
     "output_type": "stream",
     "name": "stdout",
     "output_type": "stream",
     "text": [
      "R2 score for training for epoch 1:-16.073309426681043\nTraining error for epoch 1:5582.844529750471\nRoot Mean Square error for training for epoch 1:2.394391329807125\nR2 score for training for epoch 2:-16.073309426681043\nTraining error for epoch 2:5582.844529750471\nRoot Mean Square error for training for epoch 2:2.394391329807125\nR2 score for training for epoch 3:-16.073309426681043\nTraining error for epoch 3:5582.844529750471\nRoot Mean Square error for training for epoch 3:2.394391329807125\nR2 score for training for epoch 4:-16.073309426681043\nTraining error for epoch 4:5582.844529750471\nRoot Mean Square error for training for epoch 4:2.394391329807125\nR2 score for training for epoch 5:-16.073309426681043\nTraining error for epoch 5:5582.844529750471\nRoot Mean Square error for training for epoch 5:2.394391329807125\nR2 score for training for epoch 6:-16.073309426681043\nTraining error for epoch 6:5582.844529750471\nRoot Mean Square error for training for epoch 6:2.394391329807125\nR2 score for training for epoch 7:-16.073309426681043\nTraining error for epoch 7:5582.844529750471\nRoot Mean Square error for training for epoch 7:2.394391329807125\nR2 score for training for epoch 8:-16.073309426681043\nTraining error for epoch 8:5582.844529750471\nRoot Mean Square error for training for epoch 8:2.394391329807125\nR2 score for training for epoch 9:-16.073309426681043\nTraining error for epoch 9:5582.844529750471\nRoot Mean Square error for training for epoch 9:2.394391329807125\nR2 score for training for epoch 10:-16.073309426681043\nTraining error for epoch 10:5582.844529750471\nRoot Mean Square error for training for epoch 10:2.394391329807125\n"
     ]
    }
   ],
   "source": [
    "# Training of RNN\n",
    "\n",
    "sklearn_scaler=mmscaler(feature_range = (0, 1))\n",
    "\n",
    "for epoch in range(number_of_epochs):\n",
    "    first_row = 0\n",
    "    rnn.batch_size=batchSize\n",
    "    last_row=batchSize \n",
    "    total_training_error = 0\n",
    "    prediction_for_training_temp=np.array([])\n",
    "\n",
    "    if X_train.shape[0]>=batchSize:                                \n",
    "        while True:\n",
    "            prediction_for_training_temp=np.append(prediction_for_training_temp,rnn.fwd_pass(X_train[first_row : last_row])[1:])\n",
    "            total_training_error  += rnn.bwd_pass(y_train[first_row : last_row], X_train[first_row : last_row])\n",
    "            first_row = last_row\n",
    "            last_row+=batchSize\n",
    "            if last_row>=X_train.shape[0]:\n",
    "                rnn.batch_size=X_train.shape[0]-first_row\n",
    "                prediction_for_training_temp=np.append(prediction_for_training_temp,rnn.fwd_pass(X_train[first_row : X_train.shape[0]])[1:X_train.shape[0]-first_row+1])\n",
    "                total_training_error  += rnn.bwd_pass(y_train[first_row : X_train.shape[0]], X_train[first_row : X_train.shape[0]])\n",
    "                break\n",
    "    else:\n",
    "        rnn.batch_size=X_train.shape[0]-first_row\n",
    "        prediction_for_training_temp=np.append(prediction_for_training_temp,rnn.fwd_pass(X_train[first_row : X_train.shape[0]])[1:X_train.shape[0]-first_row+1])\n",
    "        total_training_error  += rnn.bwd_pass(y_train[first_row : X_train.shape[0]], X_train[first_row : X_train.shape[0]])\n",
    "    \n",
    "    obj=sklearn_scaler.fit(np.array(df1.rdd.map(lambda x:x[feature_to_predict]).collect()).reshape(-1,1))\n",
    "    prediction_for_training = (obj.inverse_transform(prediction_for_training_temp.reshape(-1,1)))[:,0]             \n",
    "    gold_label_y_train = obj.inverse_transform(y_train.reshape(-1,1))\n",
    "    r2=r2_score(gold_label_y_train,prediction_for_training)\n",
    "    print(\"R2 score for training for epoch {}:{}\".format(epoch+1,r2))\n",
    "    print(\"Training error for epoch {}:{}\".format(epoch+1,total_training_error[0]))\n",
    "    print(\"Root Mean Square error for training for epoch {}:{}\".format(epoch+1,np.sqrt(mean_squared_error(gold_label_y_train,prediction_for_training))))"
   ]
  },
  {
   "cell_type": "code",
   "execution_count": 0,
   "metadata": {
    "application/vnd.databricks.v1+cell": {
     "cellMetadata": {
      "byteLimit": 2048000,
      "rowLimit": 10000
     },
     "inputWidgets": {},
     "nuid": "9800ff0c-3d64-4727-bccf-6346d525f2e4",
     "showTitle": false,
     "title": ""
    }
   },
   "outputs": [
    {
     "output_type": "stream",
     "name": "stdout",
     "output_type": "stream",
     "text": [
      "R2 score for testing:-18.019529133576647\nTesting error:1360.6142034548966\nRoot Mean Square error for testing:10\n"
     ]
    }
   ],
   "source": [
    "# Testing of RNN\n",
    "\n",
    "prediction_for_testing_temp, testing_error = rnn.test(X_test, y_test)\n",
    "prediction_for_testing = (sklearn_scaler.inverse_transform(prediction_for_testing_temp[1:]))[:,0]                                            \n",
    "gold_label_y_test = sklearn_scaler.inverse_transform(y_test.reshape(-1,1))\n",
    "r2=r2_score(gold_label_y_test,prediction_for_testing)\n",
    "print(\"R2 score for testing:{}\".format(r2))\n",
    "print(\"Testing error:{}\".format(testing_error[0]))\n",
    "print(\"Root Mean Square error for testing:{}\".format(epoch+1,np.sqrt(mean_squared_error(gold_label_y_test,prediction_for_testing))))"
   ]
  },
  {
   "cell_type": "code",
   "execution_count": 0,
   "metadata": {
    "application/vnd.databricks.v1+cell": {
     "cellMetadata": {
      "byteLimit": 2048000,
      "rowLimit": 10000
     },
     "inputWidgets": {},
     "nuid": "9475b655-7558-464c-992c-44a380f8d860",
     "showTitle": false,
     "title": ""
    }
   },
   "outputs": [
    {
     "output_type": "display_data",
     "data": {
      "image/png": "[encoded data removed]"
     },
     "metadata": {
      "application/vnd.databricks.v1+output": {
       "addedWidgets": {},
       "arguments": {},
       "data": "data:image/png;base64,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\n",
       "datasetInfos": [],
       "metadata": {},
       "removedWidgets": [],
       "type": "image"
      }
     },
     "output_type": "display_data"
    }
   ],
   "source": [
    "# Analysis\n",
    "\n",
    "x_data=df.rdd.map(lambda x:str(x['YEAR'])+\"-\"+str(x['MO'])+\"-\"+str(x['DY'])).collect()\n",
    "\n",
    "matplotlib.pyplot.plot(x_data[train.count()+50:],gold_label_y_test,label=\"Actual Testing Data\",color=\"g\")\n",
    "matplotlib.pyplot.plot(x_data[train.count()+50:],prediction_for_testing,label=\"Predicted Testing Data\",color=\"r\")\n",
    "\n",
    "matplotlib.pyplot.xlabel(\"Days\")\n",
    "matplotlib.pyplot.ylabel(feature_to_predict)\n",
    "matplotlib.pyplot.title(\"Analysis\")\n",
    "\n",
    "matplotlib.pyplot.legend()\n",
    "matplotlib.pyplot.show()"
   ]
  },
  {
   "cell_type": "code",
   "execution_count": 0,
   "metadata": {
    "application/vnd.databricks.v1+cell": {
     "cellMetadata": {
      "byteLimit": 2048000,
      "rowLimit": 10000
     },
     "inputWidgets": {},
     "nuid": "35218056-1151-4b3f-90fa-a341989887ee",
     "showTitle": false,
     "title": ""
    }
   },
   "outputs": [],
   "source": []
  }
 ],
 "metadata": {
  "application/vnd.databricks.v1+notebook": {
   "dashboards": [],
   "language": "python",
   "notebookMetadata": {
    "pythonIndentUnit": 4
   },
   "notebookName": "Final_Project",
   "widgets": {}
  }
 },
 "nbformat": 4,
 "nbformat_minor": 0
}
